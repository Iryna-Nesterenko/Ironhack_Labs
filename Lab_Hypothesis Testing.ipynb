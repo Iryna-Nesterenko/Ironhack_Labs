{
 "cells": [
  {
   "cell_type": "markdown",
   "id": "efcef55c",
   "metadata": {},
   "source": [
    "## Instructions\n",
    "\n",
    "It is assumed that the mean systolic blood pressure is μ = 120 mm Hg. In the Honolulu Heart Study, a sample of n = 100 people had an average systolic blood pressure of 130.1 mm Hg with a standard deviation of 21.21 mm Hg. Is the group significantly different (with respect to systolic blood pressure!) from the regular population?\n",
    "\n",
    "* Set up the hypothesis test.\n",
    "* Write down all the steps followed for setting up the test.\n",
    "* Calculate the test statistic by hand and also code it in Python. It should be 4.76190. What decision can you make based on this calculated value?"
   ]
  },
  {
   "cell_type": "code",
   "execution_count": 7,
   "id": "c79491a6",
   "metadata": {},
   "outputs": [],
   "source": [
    "import scipy.stats as scipy\n",
    "import math"
   ]
  },
  {
   "cell_type": "markdown",
   "id": "dcb06d0a",
   "metadata": {},
   "source": [
    "**Critical value**"
   ]
  },
  {
   "cell_type": "code",
   "execution_count": 10,
   "id": "a22126b6",
   "metadata": {},
   "outputs": [],
   "source": [
    "tc = +-scipy.t.ppf(1-(0.05/2),df=99)    "
   ]
  },
  {
   "cell_type": "code",
   "execution_count": 11,
   "id": "32920dfd",
   "metadata": {},
   "outputs": [
    {
     "data": {
      "text/plain": [
       "-1.9842169515086827"
      ]
     },
     "execution_count": 11,
     "metadata": {},
     "output_type": "execute_result"
    }
   ],
   "source": [
    "tc"
   ]
  },
  {
   "cell_type": "code",
   "execution_count": 4,
   "id": "1e592a13",
   "metadata": {},
   "outputs": [],
   "source": [
    "mean_population = 120\n",
    "mean_sample = 130.1\n",
    "n = 100\n",
    "std_sample = 21.21"
   ]
  },
  {
   "cell_type": "markdown",
   "id": "3d3f76bd",
   "metadata": {},
   "source": [
    "**Test statistic**"
   ]
  },
  {
   "cell_type": "code",
   "execution_count": 5,
   "id": "79bf9084",
   "metadata": {},
   "outputs": [],
   "source": [
    "t = (mean_sample - mean_population)/(std_sample/np.sqrt(100))"
   ]
  },
  {
   "cell_type": "code",
   "execution_count": 6,
   "id": "e1405a44",
   "metadata": {},
   "outputs": [
    {
     "data": {
      "text/plain": [
       "4.761904761904759"
      ]
     },
     "execution_count": 6,
     "metadata": {},
     "output_type": "execute_result"
    }
   ],
   "source": [
    "t"
   ]
  },
  {
   "cell_type": "markdown",
   "id": "8d13678a",
   "metadata": {},
   "source": [
    "We have critical value (95%) in range -1.9842169515086827 to 1.9842169515086827 \n",
    "Our result is 4.761904761904759 (out of the range), so we **reject null hypothesis**"
   ]
  },
  {
   "cell_type": "code",
   "execution_count": null,
   "id": "49f6324a",
   "metadata": {},
   "outputs": [],
   "source": []
  },
  {
   "cell_type": "code",
   "execution_count": null,
   "id": "0ddf9edd",
   "metadata": {},
   "outputs": [],
   "source": []
  }
 ],
 "metadata": {
  "kernelspec": {
   "display_name": "Python 3 (ipykernel)",
   "language": "python",
   "name": "python3"
  },
  "language_info": {
   "codemirror_mode": {
    "name": "ipython",
    "version": 3
   },
   "file_extension": ".py",
   "mimetype": "text/x-python",
   "name": "python",
   "nbconvert_exporter": "python",
   "pygments_lexer": "ipython3",
   "version": "3.9.12"
  },
  "toc": {
   "base_numbering": 1,
   "nav_menu": {},
   "number_sections": true,
   "sideBar": true,
   "skip_h1_title": false,
   "title_cell": "Table of Contents",
   "title_sidebar": "Contents",
   "toc_cell": false,
   "toc_position": {},
   "toc_section_display": true,
   "toc_window_display": false
  }
 },
 "nbformat": 4,
 "nbformat_minor": 5
}
