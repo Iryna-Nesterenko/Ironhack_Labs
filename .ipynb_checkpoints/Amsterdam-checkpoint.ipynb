{
 "cells": [
  {
   "cell_type": "code",
   "execution_count": 1,
   "id": "213ac60a",
   "metadata": {},
   "outputs": [],
   "source": [
    "import numpy as np\n",
    "import pandas as pd\n",
    "import matplotlib.pyplot as plt\n",
    "%matplotlib inline\n",
    "import seaborn as sns\n",
    "import statsmodels.api as sm\n",
    "from scipy.stats import boxcox"
   ]
  },
  {
   "cell_type": "code",
   "execution_count": 4,
   "id": "ad6a2822",
   "metadata": {},
   "outputs": [
    {
     "name": "stderr",
     "output_type": "stream",
     "text": [
      "/var/folders/dc/mkf8yrbx1ds4p7h5pty0xs600000gn/T/ipykernel_23723/2606986357.py:1: DtypeWarning: Columns (87) have mixed types. Specify dtype option on import or set low_memory=False.\n",
      "  df = pd.read_csv(\"/Users/irenewalken/Documents/GitHub/Midterm_project_05.09/archive/listings_details.csv\")\n"
     ]
    }
   ],
   "source": [
    "df = pd.read_csv(\"/Users/irenewalken/Documents/GitHub/Midterm_project_05.09/archive/listings_details.csv\")\n",
    "df"
   ]
  },
  {
   "cell_type": "code",
   "execution_count": 9,
   "id": "f61502e1",
   "metadata": {},
   "outputs": [
    {
     "name": "stdout",
     "output_type": "stream",
     "text": [
      "<class 'pandas.core.frame.DataFrame'>\n",
      "RangeIndex: 20030 entries, 0 to 20029\n",
      "Data columns (total 96 columns):\n",
      " #   Column                            Non-Null Count  Dtype  \n",
      "---  ------                            --------------  -----  \n",
      " 0   id                                20030 non-null  int64  \n",
      " 1   listing_url                       20030 non-null  object \n",
      " 2   scrape_id                         20030 non-null  int64  \n",
      " 3   last_scraped                      20030 non-null  object \n",
      " 4   name                              19992 non-null  object \n",
      " 5   summary                           19510 non-null  object \n",
      " 6   space                             14579 non-null  object \n",
      " 7   description                       19906 non-null  object \n",
      " 8   experiences_offered               20030 non-null  object \n",
      " 9   neighborhood_overview             13257 non-null  object \n",
      " 10  notes                             9031 non-null   object \n",
      " 11  transit                           13635 non-null  object \n",
      " 12  access                            12227 non-null  object \n",
      " 13  interaction                       11974 non-null  object \n",
      " 14  house_rules                       12571 non-null  object \n",
      " 15  thumbnail_url                     0 non-null      float64\n",
      " 16  medium_url                        0 non-null      float64\n",
      " 17  picture_url                       20030 non-null  object \n",
      " 18  xl_picture_url                    0 non-null      float64\n",
      " 19  host_id                           20030 non-null  int64  \n",
      " 20  host_url                          20030 non-null  object \n",
      " 21  host_name                         20026 non-null  object \n",
      " 22  host_since                        20026 non-null  object \n",
      " 23  host_location                     19991 non-null  object \n",
      " 24  host_about                        11803 non-null  object \n",
      " 25  host_response_time                10547 non-null  object \n",
      " 26  host_response_rate                10547 non-null  object \n",
      " 27  host_acceptance_rate              0 non-null      float64\n",
      " 28  host_is_superhost                 20026 non-null  object \n",
      " 29  host_thumbnail_url                20026 non-null  object \n",
      " 30  host_picture_url                  20026 non-null  object \n",
      " 31  host_neighbourhood                14222 non-null  object \n",
      " 32  host_listings_count               20026 non-null  float64\n",
      " 33  host_total_listings_count         20026 non-null  float64\n",
      " 34  host_verifications                20030 non-null  object \n",
      " 35  host_has_profile_pic              20026 non-null  object \n",
      " 36  host_identity_verified            20026 non-null  object \n",
      " 37  street                            20030 non-null  object \n",
      " 38  neighbourhood                     18377 non-null  object \n",
      " 39  neighbourhood_cleansed            20030 non-null  object \n",
      " 40  neighbourhood_group_cleansed      0 non-null      float64\n",
      " 41  city                              20026 non-null  object \n",
      " 42  state                             19903 non-null  object \n",
      " 43  zipcode                           19164 non-null  object \n",
      " 44  market                            19988 non-null  object \n",
      " 45  smart_location                    20030 non-null  object \n",
      " 46  country_code                      20030 non-null  object \n",
      " 47  country                           20030 non-null  object \n",
      " 48  latitude                          20030 non-null  float64\n",
      " 49  longitude                         20030 non-null  float64\n",
      " 50  is_location_exact                 20030 non-null  object \n",
      " 51  property_type                     20030 non-null  object \n",
      " 52  room_type                         20030 non-null  object \n",
      " 53  accommodates                      20030 non-null  int64  \n",
      " 54  bathrooms                         20020 non-null  float64\n",
      " 55  bedrooms                          20022 non-null  float64\n",
      " 56  beds                              20023 non-null  float64\n",
      " 57  bed_type                          20030 non-null  object \n",
      " 58  amenities                         20030 non-null  object \n",
      " 59  square_feet                       406 non-null    float64\n",
      " 60  price                             20030 non-null  object \n",
      " 61  weekly_price                      2843 non-null   object \n",
      " 62  monthly_price                     1561 non-null   object \n",
      " 63  security_deposit                  13864 non-null  object \n",
      " 64  cleaning_fee                      16401 non-null  object \n",
      " 65  guests_included                   20030 non-null  int64  \n",
      " 66  extra_people                      20030 non-null  object \n",
      " 67  minimum_nights                    20030 non-null  int64  \n",
      " 68  maximum_nights                    20030 non-null  int64  \n",
      " 69  calendar_updated                  20030 non-null  object \n",
      " 70  has_availability                  20030 non-null  object \n",
      " 71  availability_30                   20030 non-null  int64  \n",
      " 72  availability_60                   20030 non-null  int64  \n",
      " 73  availability_90                   20030 non-null  int64  \n",
      " 74  availability_365                  20030 non-null  int64  \n",
      " 75  calendar_last_scraped             20030 non-null  object \n",
      " 76  number_of_reviews                 20030 non-null  int64  \n",
      " 77  first_review                      17624 non-null  object \n",
      " 78  last_review                       17624 non-null  object \n",
      " 79  review_scores_rating              17391 non-null  float64\n",
      " 80  review_scores_accuracy            17381 non-null  float64\n",
      " 81  review_scores_cleanliness         17383 non-null  float64\n",
      " 82  review_scores_checkin             17369 non-null  float64\n",
      " 83  review_scores_communication       17378 non-null  float64\n",
      " 84  review_scores_location            17370 non-null  float64\n",
      " 85  review_scores_value               17371 non-null  float64\n",
      " 86  requires_license                  20030 non-null  object \n",
      " 87  license                           9 non-null      object \n",
      " 88  jurisdiction_names                19358 non-null  object \n",
      " 89  instant_bookable                  20030 non-null  object \n",
      " 90  is_business_travel_ready          20030 non-null  object \n",
      " 91  cancellation_policy               20030 non-null  object \n",
      " 92  require_guest_profile_picture     20030 non-null  object \n",
      " 93  require_guest_phone_verification  20030 non-null  object \n",
      " 94  calculated_host_listings_count    20030 non-null  int64  \n",
      " 95  reviews_per_month                 17624 non-null  float64\n",
      "dtypes: float64(21), int64(13), object(62)\n",
      "memory usage: 14.7+ MB\n"
     ]
    }
   ],
   "source": [
    "df.info()"
   ]
  },
  {
   "cell_type": "code",
   "execution_count": 13,
   "id": "db70f176",
   "metadata": {},
   "outputs": [
    {
     "data": {
      "text/plain": [
       "Index(['id', 'listing_url', 'scrape_id', 'last_scraped', 'name', 'summary',\n",
       "       'space', 'description', 'experiences_offered', 'neighborhood_overview',\n",
       "       'notes', 'transit', 'access', 'interaction', 'house_rules',\n",
       "       'thumbnail_url', 'medium_url', 'picture_url', 'xl_picture_url',\n",
       "       'host_id', 'host_url', 'host_name', 'host_since', 'host_location',\n",
       "       'host_about', 'host_response_time', 'host_response_rate',\n",
       "       'host_acceptance_rate', 'host_is_superhost', 'host_thumbnail_url',\n",
       "       'host_picture_url', 'host_neighbourhood', 'host_listings_count',\n",
       "       'host_total_listings_count', 'host_verifications',\n",
       "       'host_has_profile_pic', 'host_identity_verified', 'street',\n",
       "       'neighbourhood', 'neighbourhood_cleansed',\n",
       "       'neighbourhood_group_cleansed', 'city', 'state', 'zipcode', 'market',\n",
       "       'smart_location', 'country_code', 'country', 'latitude', 'longitude',\n",
       "       'is_location_exact', 'property_type', 'room_type', 'accommodates',\n",
       "       'bathrooms', 'bedrooms', 'beds', 'bed_type', 'amenities', 'square_feet',\n",
       "       'price', 'weekly_price', 'monthly_price', 'security_deposit',\n",
       "       'cleaning_fee', 'guests_included', 'extra_people', 'minimum_nights',\n",
       "       'maximum_nights', 'calendar_updated', 'has_availability',\n",
       "       'availability_30', 'availability_60', 'availability_90',\n",
       "       'availability_365', 'calendar_last_scraped', 'number_of_reviews',\n",
       "       'first_review', 'last_review', 'review_scores_rating',\n",
       "       'review_scores_accuracy', 'review_scores_cleanliness',\n",
       "       'review_scores_checkin', 'review_scores_communication',\n",
       "       'review_scores_location', 'review_scores_value', 'requires_license',\n",
       "       'license', 'jurisdiction_names', 'instant_bookable',\n",
       "       'is_business_travel_ready', 'cancellation_policy',\n",
       "       'require_guest_profile_picture', 'require_guest_phone_verification',\n",
       "       'calculated_host_listings_count', 'reviews_per_month'],\n",
       "      dtype='object')"
      ]
     },
     "execution_count": 13,
     "metadata": {},
     "output_type": "execute_result"
    }
   ],
   "source": [
    "df.columns"
   ]
  },
  {
   "cell_type": "code",
   "execution_count": 15,
   "id": "c126df10",
   "metadata": {},
   "outputs": [
    {
     "data": {
      "text/plain": [
       "Amsterdam                       19715\n",
       "Amsterdam-Zuidoost                193\n",
       "Amsterdam Zuid-Oost                35\n",
       "Amsterdam                          10\n",
       "Badhoevedorp                        9\n",
       "Diemen                              8\n",
       "De Pijp                             7\n",
       "Amstelveen                          7\n",
       "Watergraafsmeer                     6\n",
       "Duivendrecht                        6\n",
       "Jordaan                             5\n",
       "Amsterdam (Zunderdorp)              3\n",
       "Halfweg                             3\n",
       "Amsterdam Zuidoost                  2\n",
       "Zeeburg                             2\n",
       "Amsterdão                           1\n",
       "Ouderkerk aan de Amstel             1\n",
       "Buitenveldert                       1\n",
       "Weesp                               1\n",
       "Zeeburgerkade                       1\n",
       "1015 SN Amsterdam                   1\n",
       "Ámsterdam                           1\n",
       "Nederland                           1\n",
       "Amsterdam, Noord-Holland, NL        1\n",
       "Lijnden                             1\n",
       "Amsterdam West                      1\n",
       "Jordaan, Amsterdam                  1\n",
       "Haarlem                             1\n",
       "Амстердам                           1\n",
       "Zaandam                             1\n",
       "Name: city, dtype: int64"
      ]
     },
     "execution_count": 15,
     "metadata": {},
     "output_type": "execute_result"
    }
   ],
   "source": [
    "df[\"city\"].value_counts()"
   ]
  },
  {
   "cell_type": "code",
   "execution_count": 16,
   "id": "35ea9a87",
   "metadata": {},
   "outputs": [
    {
     "data": {
      "text/plain": [
       "Oud-West                               3924\n",
       "De Pijp                                1654\n",
       "Grachtengordel                         1133\n",
       "Bos en Lommer                          1087\n",
       "Indische Buurt                          920\n",
       "Oosterparkbuurt                         868\n",
       "Jordaan                                 861\n",
       "Rivierenbuurt                           668\n",
       "Oost                                    560\n",
       "Hoofddorppleinbuurt                     425\n",
       "Watergraafsmeer                         420\n",
       "Frederik Hendrikbuurt                   389\n",
       "Amsterdam Centrum                       371\n",
       "Spaarndammer en Zeeheldenbuurt          349\n",
       "Nieuwmarkt en Lastage                   344\n",
       "Oud-Zuid                                337\n",
       "Stadionbuurt                            313\n",
       "Museumkwartier                          298\n",
       "Weesperbuurt en Plantage                283\n",
       "Slotervaart                             275\n",
       "Zeeburg                                 272\n",
       "Oostelijke Eilanden en Kadijken         269\n",
       "De Wallen                               261\n",
       "Osdorp                                  260\n",
       "Westelijke Eilanden                     239\n",
       "Buitenveldert-West                      171\n",
       "IJplein en Vogelbuurt                   168\n",
       "Overtoomse Veld                         147\n",
       "Tuindorp Oostzaan                       138\n",
       "Volewijck                               130\n",
       "Buikslotermeer                          120\n",
       "Slotermeer-Zuidwest                      96\n",
       "Buiksloterham                            94\n",
       "Banne Buiksloot                          85\n",
       "Slotermeer-Noordoost                     70\n",
       "Buitenveldert-Oost                       66\n",
       "Nieuwendam-Noord                         57\n",
       "Tuindorp Buiksloot                       47\n",
       "Tuindorp Nieuwendam                      47\n",
       "Kadoelen                                 45\n",
       "Oostzanerwerf                            38\n",
       "Landelijk Noord                          34\n",
       "Nieuwendammerdijk en Buiksloterdijk      32\n",
       "Nieuwendammerham                         12\n",
       "Name: neighbourhood, dtype: int64"
      ]
     },
     "execution_count": 16,
     "metadata": {},
     "output_type": "execute_result"
    }
   ],
   "source": [
    "df[\"city\"] = df[\"city\"].replace([\"Amsterdam-Zuidoost\",\"Amsterdam Zuid-Oost\",\"\"])"
   ]
  },
  {
   "cell_type": "code",
   "execution_count": null,
   "id": "83d703d8",
   "metadata": {},
   "outputs": [],
   "source": []
  }
 ],
 "metadata": {
  "kernelspec": {
   "display_name": "Python 3 (ipykernel)",
   "language": "python",
   "name": "python3"
  },
  "language_info": {
   "codemirror_mode": {
    "name": "ipython",
    "version": 3
   },
   "file_extension": ".py",
   "mimetype": "text/x-python",
   "name": "python",
   "nbconvert_exporter": "python",
   "pygments_lexer": "ipython3",
   "version": "3.9.12"
  },
  "toc": {
   "base_numbering": 1,
   "nav_menu": {},
   "number_sections": true,
   "sideBar": true,
   "skip_h1_title": false,
   "title_cell": "Table of Contents",
   "title_sidebar": "Contents",
   "toc_cell": false,
   "toc_position": {},
   "toc_section_display": true,
   "toc_window_display": false
  }
 },
 "nbformat": 4,
 "nbformat_minor": 5
}
