{
 "cells": [
  {
   "cell_type": "code",
   "execution_count": 1,
   "id": "998b1200",
   "metadata": {},
   "outputs": [],
   "source": [
    "import numpy as np"
   ]
  },
  {
   "cell_type": "code",
   "execution_count": 25,
   "id": "cc1be57b",
   "metadata": {},
   "outputs": [
    {
     "name": "stdout",
     "output_type": "stream",
     "text": [
      "[0. 0. 0. 0. 0. 0. 0. 0. 0. 0.] \n",
      "\n"
     ]
    }
   ],
   "source": [
    "a = np.zeros(10)  \n",
    "print(a, \"\\n\")"
   ]
  },
  {
   "cell_type": "code",
   "execution_count": 30,
   "id": "4be58f30",
   "metadata": {},
   "outputs": [
    {
     "data": {
      "text/plain": [
       "array([0., 0., 0., 0., 1., 0., 0., 0., 0., 0.])"
      ]
     },
     "execution_count": 30,
     "metadata": {},
     "output_type": "execute_result"
    }
   ],
   "source": [
    "a[4] = 1\n",
    "a"
   ]
  },
  {
   "cell_type": "code",
   "execution_count": 31,
   "id": "fc036e93",
   "metadata": {},
   "outputs": [
    {
     "data": {
      "text/plain": [
       "array([10, 11, 12, 13, 14, 15, 16, 17, 18, 19, 20, 21, 22, 23, 24, 25, 26,\n",
       "       27, 28, 29, 30, 31, 32, 33, 34, 35, 36, 37, 38, 39, 40, 41, 42, 43,\n",
       "       44, 45, 46, 47, 48, 49])"
      ]
     },
     "execution_count": 31,
     "metadata": {},
     "output_type": "execute_result"
    }
   ],
   "source": [
    "b = np.arange(10,50)\n",
    "b"
   ]
  },
  {
   "cell_type": "code",
   "execution_count": 67,
   "id": "5f8a7861",
   "metadata": {},
   "outputs": [
    {
     "name": "stdout",
     "output_type": "stream",
     "text": [
      "[[0 1 2]\n",
      " [3 4 5]\n",
      " [6 7 8]]\n"
     ]
    }
   ],
   "source": [
    "c = np.arange(0, 9).reshape((3, 3))\n",
    "print(c)"
   ]
  },
  {
   "cell_type": "code",
   "execution_count": 33,
   "id": "043f207e",
   "metadata": {},
   "outputs": [
    {
     "data": {
      "text/plain": [
       "(array([0, 1, 4]),)"
      ]
     },
     "execution_count": 33,
     "metadata": {},
     "output_type": "execute_result"
    }
   ],
   "source": [
    "d = np.nonzero([1,2,0,0,4,0])\n",
    "d"
   ]
  },
  {
   "cell_type": "code",
   "execution_count": 34,
   "id": "69dde061",
   "metadata": {},
   "outputs": [
    {
     "data": {
      "text/plain": [
       "array([[1., 0., 0.],\n",
       "       [0., 1., 0.],\n",
       "       [0., 0., 1.]])"
      ]
     },
     "execution_count": 34,
     "metadata": {},
     "output_type": "execute_result"
    }
   ],
   "source": [
    "e = np.eye(3,3)\n",
    "e"
   ]
  },
  {
   "cell_type": "code",
   "execution_count": 37,
   "id": "7fa5cb89",
   "metadata": {},
   "outputs": [
    {
     "data": {
      "text/plain": [
       "array([[[0.29499505, 0.60961846, 0.01446074],\n",
       "        [0.26997806, 0.98258369, 0.42597072],\n",
       "        [0.80824066, 0.558996  , 0.30810987]],\n",
       "\n",
       "       [[0.67423577, 0.16732838, 0.18378128],\n",
       "        [0.86726855, 0.04186896, 0.77676309],\n",
       "        [0.84170478, 0.90478331, 0.49251225]],\n",
       "\n",
       "       [[0.88003938, 0.51227009, 0.36280877],\n",
       "        [0.75965738, 0.69316401, 0.21140154],\n",
       "        [0.6747748 , 0.52323804, 0.44347275]]])"
      ]
     },
     "execution_count": 37,
     "metadata": {},
     "output_type": "execute_result"
    }
   ],
   "source": [
    "f = np.random.random((3,3,3))\n",
    "f"
   ]
  },
  {
   "cell_type": "code",
   "execution_count": 49,
   "id": "24df5af1",
   "metadata": {},
   "outputs": [
    {
     "name": "stdout",
     "output_type": "stream",
     "text": [
      "0.010421700558954194\n",
      "0.9820274845981977\n"
     ]
    }
   ],
   "source": [
    "np.random.seed(1000)\n",
    "g = np.random.random((10,10))\n",
    "g\n",
    "\n",
    "min = np.amin(g)\n",
    "print(min)\n",
    "\n",
    "max = np.amax(g)\n",
    "print(max)"
   ]
  },
  {
   "cell_type": "code",
   "execution_count": 63,
   "id": "d9914bf6",
   "metadata": {},
   "outputs": [
    {
     "name": "stdout",
     "output_type": "stream",
     "text": [
      "[[0.37454012 0.95071431 0.73199394]\n",
      " [0.59865848 0.15601864 0.15599452]\n",
      " [0.05808361 0.86617615 0.60111501]\n",
      " [0.70807258 0.02058449 0.96990985]\n",
      " [0.83244264 0.21233911 0.18182497]\n",
      " [0.18340451 0.30424224 0.52475643]\n",
      " [0.43194502 0.29122914 0.61185289]\n",
      " [0.13949386 0.29214465 0.36636184]\n",
      " [0.45606998 0.78517596 0.19967378]\n",
      " [0.51423444 0.59241457 0.04645041]]\n",
      "0.43859727209743676\n"
     ]
    }
   ],
   "source": [
    "np.random.seed(42)\n",
    "z = np.random.random((10,3))\n",
    "print(z)\n",
    "print(np.mean(z))\n"
   ]
  },
  {
   "cell_type": "code",
   "execution_count": 77,
   "id": "213520ee",
   "metadata": {},
   "outputs": [
    {
     "name": "stdout",
     "output_type": "stream",
     "text": [
      "[[1 0 0 0]\n",
      " [0 2 0 0]\n",
      " [0 0 3 0]\n",
      " [0 0 0 4]]\n"
     ]
    }
   ],
   "source": [
    "x = np.diag([1, 2, 3, 4])\n",
    "print(x)"
   ]
  },
  {
   "cell_type": "code",
   "execution_count": 80,
   "id": "7d0dda6d",
   "metadata": {},
   "outputs": [
    {
     "name": "stdout",
     "output_type": "stream",
     "text": [
      "[[0.86310343 0.62329813 0.33089802 0.06355835 0.31098232]\n",
      " [0.32518332 0.72960618 0.63755747 0.88721274 0.47221493]\n",
      " [0.11959425 0.71324479 0.76078505 0.5612772  0.77096718]\n",
      " [0.4937956  0.52273283 0.42754102 0.02541913 0.10789143]\n",
      " [0.03142919 0.63641041 0.31435598 0.50857069 0.90756647]]\n",
      "[[ 1.40271656  0.51116394 -0.57592662 -1.56984705 -0.64996959]\n",
      " [-0.59717285  0.906398    0.5641776   1.49235063 -0.05053601]\n",
      " [-1.36151575  0.84556932  1.02231539  0.28058137  1.06017071]\n",
      " [ 0.02969702  0.1372804  -0.21662549 -1.71164177 -1.40502471]\n",
      " [-1.68929746  0.55991304 -0.63742694  0.08462814  1.56802211]]\n"
     ]
    }
   ],
   "source": [
    "x= np.random.random((5,5))\n",
    "print(x)\n",
    "print((x - np.mean(x))/np.std(x))\n"
   ]
  },
  {
   "cell_type": "code",
   "execution_count": 82,
   "id": "75d772ad",
   "metadata": {},
   "outputs": [
    {
     "data": {
      "text/plain": [
       "array([1])"
      ]
     },
     "execution_count": 82,
     "metadata": {},
     "output_type": "execute_result"
    }
   ],
   "source": [
    "a = [1,2,3]\n",
    "b = [4,1,6]\n",
    "np.intersect1d(a,b)\n"
   ]
  },
  {
   "cell_type": "code",
   "execution_count": 101,
   "id": "df4d9bcb",
   "metadata": {},
   "outputs": [
    {
     "name": "stdout",
     "output_type": "stream",
     "text": [
      "[0.43249917 0.0181432  0.69143786 0.46969065 0.12822219 0.89133705\n",
      " 0.91820362 0.07312099 0.04544794 0.4385729 ]\n",
      "[0.0181432  0.04544794 0.07312099 0.12822219 0.43249917 0.4385729\n",
      " 0.46969065 0.69143786 0.89133705 0.91820362]\n"
     ]
    }
   ],
   "source": [
    "g = np.random.random(10)\n",
    "print(g)\n",
    "g.sort()\n",
    "print(g)"
   ]
  },
  {
   "cell_type": "code",
   "execution_count": 110,
   "id": "3e0930a8",
   "metadata": {},
   "outputs": [
    {
     "name": "stdout",
     "output_type": "stream",
     "text": [
      "[0.37454012 0.95071431 0.73199394 0.59865848 0.15601864 0.15599452\n",
      " 0.05808361 0.86617615 0.60111501 0.70807258]\n",
      "[0.37454012 0.         0.73199394 0.59865848 0.15601864 0.15599452\n",
      " 0.05808361 0.86617615 0.60111501 0.70807258]\n"
     ]
    }
   ],
   "source": [
    "np.random.seed(42)\n",
    "x = np.random.random(10)\n",
    "print(x)\n",
    "x[x.argmax()] = 0\n",
    "print(x)\n",
    "\n"
   ]
  },
  {
   "cell_type": "code",
   "execution_count": 114,
   "id": "6652f03b",
   "metadata": {},
   "outputs": [
    {
     "name": "stdout",
     "output_type": "stream",
     "text": [
      "[[0.29214465 0.36636184 0.45606998 0.78517596]\n",
      " [0.19967378 0.51423444 0.59241457 0.04645041]\n",
      " [0.60754485 0.17052412 0.06505159 0.94888554]]\n",
      "[[-0.18279346 -0.10857627 -0.01886813  0.31023785]\n",
      " [-0.13851952  0.17604114  0.25422127 -0.29174289]\n",
      " [ 0.15954333 -0.2774774  -0.38294993  0.50088401]]\n"
     ]
    }
   ],
   "source": [
    "x = np.random.rand(3, 4)\n",
    "print(x)\n",
    "b = x - x.mean(axis=1, keepdims=True)\n",
    "print(b)"
   ]
  },
  {
   "cell_type": "code",
   "execution_count": 117,
   "id": "22163bb3",
   "metadata": {},
   "outputs": [
    {
     "name": "stdout",
     "output_type": "stream",
     "text": [
      "[5109  562 4592 ... 9108 1466 1543]\n",
      "9995\n"
     ]
    }
   ],
   "source": [
    "Z = np.arange(10000) \n",
    "np.random.shuffle(Z) \n",
    "n = 5\n",
    "print(Z)\n",
    "sorted_index_array = np.argsort(Z)\n",
    "sorted_array = Z[sorted_index_array]\n",
    "rslt = sorted_array[-n : ]\n",
    "print(rslt[0])"
   ]
  },
  {
   "cell_type": "code",
   "execution_count": 123,
   "id": "60b66e44",
   "metadata": {},
   "outputs": [
    {
     "name": "stdout",
     "output_type": "stream",
     "text": [
      "[[1 2 6]\n",
      " [1 4 8]\n",
      " [9 7 7]\n",
      " [1 0 8]\n",
      " [9 3 8]]\n",
      "[[ 1  2 36]\n",
      " [ 1 16 64]\n",
      " [81 49 49]\n",
      " [ 1  0 64]\n",
      " [81  3 64]]\n"
     ]
    }
   ],
   "source": [
    "x = np.random.randint(0, 10, (5, 3))\n",
    "print(x)\n",
    "f = np.where(x < 4, x, x**2)\n",
    "print(f)"
   ]
  },
  {
   "cell_type": "code",
   "execution_count": null,
   "id": "b98df75a",
   "metadata": {},
   "outputs": [],
   "source": []
  }
 ],
 "metadata": {
  "kernelspec": {
   "display_name": "Python 3 (ipykernel)",
   "language": "python",
   "name": "python3"
  },
  "language_info": {
   "codemirror_mode": {
    "name": "ipython",
    "version": 3
   },
   "file_extension": ".py",
   "mimetype": "text/x-python",
   "name": "python",
   "nbconvert_exporter": "python",
   "pygments_lexer": "ipython3",
   "version": "3.9.12"
  },
  "toc": {
   "base_numbering": 1,
   "nav_menu": {},
   "number_sections": true,
   "sideBar": true,
   "skip_h1_title": false,
   "title_cell": "Table of Contents",
   "title_sidebar": "Contents",
   "toc_cell": false,
   "toc_position": {},
   "toc_section_display": true,
   "toc_window_display": false
  }
 },
 "nbformat": 4,
 "nbformat_minor": 5
}
